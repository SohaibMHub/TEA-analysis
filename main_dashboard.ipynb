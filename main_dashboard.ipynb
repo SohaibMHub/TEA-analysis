# --- FILE 2: main_dashboard.ipynb (The Frontend GUI) ---

# Step 1: Import all necessary libraries and the backend model
import pandas as pd
import matplotlib.pyplot as plt
import ipywidgets as widgets
from IPython.display import display, clear_output

# This line imports the class from the file you saved
from tea_model import HydroPlantTEA

# ===================================================================
#  GUI WIDGET DEFINITIONS
# ===================================================================
style = {'description_width': 'initial'}
layout = widgets.Layout(width='98%')
header_layout = widgets.Layout(width='98%', justify_content='center')

# --- Tab 0: Feedstock Definition ---
w_ore_flow = widgets.FloatText(value=100, description='Ore Flow Rate (kg/hr):', style=style, layout=layout)
w_ni_ppm = widgets.FloatText(value=1000, description='Target Mineral (Ni) Grade (ppm):', style=style, layout=layout)
w_sio2_pct = widgets.FloatSlider(value=60.0, min=0, max=100, step=1, description='SiO₂ Content (%):', style=style, layout=layout)
w_cao_pct = widgets.FloatSlider(value=15.0, min=0, max=50, step=0.5, description='CaO Content (%):', style=style, layout=layout)
w_mgo_pct = widgets.FloatSlider(value=10.0, min=0, max=50, step=0.5, description='MgO Content (%):', style=style, layout=layout)
# -- Dynamic display widgets for this tab --
w_ni_flow_display = widgets.HTML(value="")
w_sio2_flow_display = widgets.HTML(value="")
w_cao_flow_display = widgets.HTML(value="")
w_mgo_flow_display = widgets.HTML(value="")
w_other_display = widgets.HTML(value="", layout=layout)
tab_feedstock = widgets.VBox([
    widgets.HTML("<b>Feedstock & Ore Composition</b>", layout=header_layout), w_ore_flow, 
    widgets.HTML("<hr><b>Mineralogy</b>"), w_ni_ppm, w_sio2_pct, w_cao_pct, w_mgo_pct, w_other_display,
    widgets.HTML("<hr><b>Calculated Mass Flows</b>"),
    widgets.HBox([w_ni_flow_display, w_sio2_flow_display, w_cao_flow_display, w_mgo_flow_display])
])

# --- Tab 1: Crushing/Grinding ---
w_u1_power = widgets.FloatText(value=1.6, description='Unit Power (kW):', style=style, layout=layout)
w_u1_capex = widgets.FloatText(value=130000, description='Installed Unit CAPEX ($):', style=style, layout=layout)
tab_crushing = widgets.VBox([widgets.HTML("<b>Comminution Parameters</b>", layout=header_layout), w_u1_power, w_u1_capex])

# --- Tab 2: Mixing Tank (NEW) ---
w_slurry_solids = widgets.FloatSlider(value=10, min=5, max=40, step=1, description='Slurry Solids Content (% wt):', style=style, layout=layout)
w_brine_molarity = widgets.FloatSlider(value=2.0, min=0.5, max=5.0, step=0.1, description='Lixiviant Concentration (M NaCl):', style=style, layout=layout)
w_u2_power = widgets.FloatText(value=0.6, description='Agitator Power (kW):', style=style, layout=layout)
w_u2_capex = widgets.FloatText(value=72000, description='Installed Unit CAPEX ($):', style=style, layout=layout)
tab_mixing = widgets.VBox([widgets.HTML("<b>Slurry Preparation</b>", layout=header_layout), w_slurry_solids, w_brine_molarity, w_u2_power, w_u2_capex])

# --- Tab 3: Electrochemical Leaching ---
w_leach_ni = widgets.FloatSlider(value=95, min=80, max=99.9, step=0.1, description='Ni Leach Efficiency (%):', style=style, layout=layout)
w_leach_ca = widgets.FloatSlider(value=40, min=10, max=80, step=1, description='Ca Leach Efficiency (%):', style=style, layout=layout)
w_leach_mg = widgets.FloatSlider(value=30, min=10, max=80, step=1, description='Mg Leach Efficiency (%):', style=style, layout=layout)
w_current_eff = widgets.FloatSlider(value=60, min=30, max=90, step=1, description='Leaching Current Efficiency (%):', style=style, layout=layout)
w_cell_v = widgets.FloatSlider(value=4.5, min=2.5, max=7.0, step=0.1, description='Cell Voltage (V):', style=style, layout=layout)
w_cake_moisture = widgets.FloatSlider(value=30, min=20, max=50, step=1, description='Centrifuge Cake Moisture (%):', style=style, layout=layout)
tab_leaching = widgets.VBox([widgets.HTML("<b>Leaching & Solid-Liquid Separation</b>", layout=header_layout), w_leach_ni, w_leach_ca, w_leach_mg, w_current_eff, w_cell_v, w_cake_moisture])

# --- Tab 4: Purification ---
w_adsorp_eff = widgets.FloatSlider(value=99.8, min=95, max=99.9, step=0.1, description='Adsorption Ni Recovery (%):', style=style, layout=layout)
w_adsorbent_capacity = widgets.FloatText(value=40, description='Adsorbent Capacity (g Ni/L):', style=style, layout=layout)
w_precip_eff = widgets.FloatSlider(value=99.5, min=90, max=99.9, step=0.1, description='Final Recovery Efficiency (%):', style=style, layout=layout)
w_precip_power = widgets.FloatText(value=15.0, description='Precipitation Unit Power (kW):', style=style, layout=layout)
w_precip_capex = widgets.FloatText(value=150000, description='Precipitation Unit CAPEX ($):', style=style, layout=layout)
tab_purification = widgets.VBox([widgets.HTML("<b>Purification & Final Product Recovery</b>", layout=header_layout), w_adsorp_eff, w_adsorbent_capacity, w_precip_eff, w_precip_power, w_precip_capex])

# --- Tab 5: Financials & Plant Assumptions ---
w_ni_price = widgets.FloatText(value=17, description='Nickel Price ($/kg):', style=style, layout=layout)
w_elec_cost = widgets.FloatText(value=70, description='Electricity Cost ($/MWh):', style=style, layout=layout)
w_labor_cost = widgets.FloatText(value=1.5e6, description='Annual Labor Cost ($/yr):', style=style, layout=layout)
w_reagent_cost = widgets.FloatText(value=20, description='Reagent Cost ($/t ore):', style=style, layout=layout)
w_plant_life = widgets.IntSlider(value=20, min=10, max=30, step=1, description='Plant Life (years):', style=style, layout=layout)
w_discount_rate = widgets.FloatSlider(value=0.08, min=0.05, max=0.2, step=0.01, description='Discount Rate:', style=style, layout=layout)
w_op_hours = widgets.IntText(value=8000, description='Operating Hours/Year:', style=style, layout=layout)
tab_financials = widgets.VBox([widgets.HTML("<b>Economic & Plant-Wide Assumptions</b>", layout=header_layout), w_ni_price, w_elec_cost, w_labor_cost, w_reagent_cost, w_plant_life, w_discount_rate, w_op_hours])

# --- Tab 6: Final Report (Output Only) ---
report_output = widgets.Output()
tab_report = widgets.VBox([report_output])

# --- Assemble the GUI ---
gui_tabs = widgets.Tab()
gui_tabs.children = [tab_feedstock, tab_crushing, tab_mixing, tab_leaching, tab_purification, tab_financials, tab_report]
gui_tabs.set_title(0, 'Feedstock')
gui_tabs.set_title(1, 'Crushing')
gui_tabs.set_title(2, 'Mixing Tank')
gui_tabs.set_title(3, 'E-Leaching')
gui_tabs.set_title(4, 'Purification')
gui_tabs.set_title(5, 'Financials')
gui_tabs.set_title(6, 'FINAL REPORT')

# ===================================================================
#  THE 'HANDLER' FUNCTION TO CONNECT GUI AND ENGINE
# ===================================================================
widget_map = {
    'ore_flow_rate_kghr': w_ore_flow, 'ore_ni_ppm': w_ni_ppm, 'ore_sio2_pct': w_sio2_pct, 'ore_cao_pct': w_cao_pct, 'ore_mgo_pct': w_mgo_pct,
    'power_crusher_kw': w_u1_power, 'capex_crusher': w_u1_capex,
    'slurry_solids_pct': w_slurry_solids, 'power_mixing_kw': w_u2_power, 'capex_mixing': w_u2_capex,
    'leach_eff_ni_pct': w_leach_ni, 'leach_eff_ca_pct': w_leach_ca, 'leach_eff_mg_pct': w_leach_mg, 'current_eff_leach_pct': w_current_eff, 'cell_voltage_v': w_cell_v, 'cake_moisture_pct': w_cake_moisture,
    'adsorption_eff_pct': w_adsorp_eff, 'adsorbent_capacity_gL': w_adsorbent_capacity,
    'precip_eff_pct': w_precip_eff, 'power_precip_kw': w_precip_power, 'capex_precip': w_precip_capex,
    'ni_price_kg': w_ni_price, 'electricity_cost_mwh': w_elec_cost, 'labor_cost_yr': w_labor_cost, 'reagent_cost_per_ton_ore': w_reagent_cost,
    'plant_life_yr': w_plant_life, 'discount_rate': w_discount_rate, 'op_hours_yr': w_op_hours
}

def update_dashboard(change):
    # --- Update dynamic display widgets ---
    flow = w_ore_flow.value
    ni_pct = w_ni_ppm.value / 10000.0
    sio2_pct, cao_pct, mgo_pct = w_sio2_pct.value, w_cao_pct.value, w_mgo_pct.value
    other_pct = 100.0 - ni_pct - sio2_pct - cao_pct - mgo_pct
    
    w_ni_flow_display.value = f"  <b>Ni Flow:</b> {flow * ni_pct / 100:.3f} kg/hr"
    w_sio2_flow_display.value = f"  <b>SiO₂ Flow:</b> {flow * sio2_pct / 100:.2f} kg/hr"
    w_cao_flow_display.value = f"  <b>CaO Flow:</b> {flow * cao_pct / 100:.2f} kg/hr"
    w_mgo_flow_display.value = f"  <b>MgO Flow:</b> {flow * mgo_pct / 100:.2f} kg/hr"
    w_other_display.value = f'<i>Other Inerts (Calculated Balance): {max(0, other_pct):.2f} %</i>'

    # --- Gather all parameters ---
    params = {key: widget.value for key, widget in widget_map.items()}
    params.update({
        'maintenance_pct_capex': 0.04, 'current_density_am2': 1500, 'inst_factor_cell': 2.5,
        'capex_centrifuge_base': 209000, 'capex_adsorption_base_per_L': 300,
        'capex_adsorption_fixed': 10500, 'capex_cell_per_m2': 12000
    })
    
    # --- Run the analysis ---
    tea = HydroPlantTEA(params)
    tea.run_full_analysis()
    res = tea.r
    
    # --- Populate the Final Report Tab ---
    with report_output:
        clear_output(wait=True)
        print("--- KEY ECONOMIC INDICATORS ---")
        display(pd.DataFrame([{'Levelized Cost of Ni (LCOM)': f"${res['lcom_usd_kg']:.2f} / kg", 'Annual Profit/(Loss)': f"${res['annual_profit']:,.0f}"}]).set_index('Levelized Cost of Ni (LCOM)'))
        print("\n--- PROCESS FLOW SUMMARY (kg Ni / hour) ---")
        flow_data = {
            '1. Ni in Ore Feed': res['ni_in_feed_kghr'], '2. Ni Leached': res['ni_leached_kghr'],
            '3. Ni Lost to Cake': res['ni_lost_to_cake_kghr'], '4. Ni to Adsorption': res['ni_to_adsorption_kghr'],
            '5. Ni Lost in Purification': res['ni_lost_to_barren_kghr'] + res['ni_lost_to_precip_kghr'],
            '6. Final Ni Product': res['ni_final_product_kghr']
        }
        display(pd.DataFrame.from_dict(flow_data, orient='index', columns=['Flow (kg/hr)']).style.format("{:.3f}"))
        print("\n--- ECONOMIC BREAKDOWN ---")
        fig, (ax1, ax2) = plt.subplots(1, 2, figsize=(13, 5))
        unit_names = ['Crushing', 'Mixing', 'E-Leach', 'S/L Sep', 'Adsorption', 'Precip.']
        opex_labels = [f'{k}\n(${v/1e6:.2f}M)' for k, v in res['opex_breakdown'].items()]
        ax1.pie(res['opex_breakdown'].values(), labels=opex_labels, autopct='%1.1f%%', startangle=90, colors=plt.cm.Oranges_r(np.linspace(0.4, 0.8, 4)))
        ax1.set_title(f"Annual OPEX: ${res['total_opex_yr']/1e6:.2f} M")
        capex_labels = [f"{unit_names[i]}\n(${v/1e6:.2f}M)" for i, v in enumerate(res['capex_breakdown'].values())]
        ax2.pie(res['capex_breakdown'].values(), labels=capex_labels, autopct='%1.1f%%', startangle=90, colors=plt.cm.Blues_r(np.linspace(0.4, 0.8, 6)))
        ax2.set_title(f"Total Installed CAPEX: ${res['total_capex']/1e6:.2f} M")
        plt.tight_layout()
        plt.show()

# Link all input widgets to the handler function
for widget in widget_map.values():
    widget.observe(update_dashboard, names='value')

# ===================================================================
#  INITIAL LAUNCH OF THE DASHBOARD
# ===================================================================
print("===================================================================")
print("  Interactive Technoeconomic Analysis: Hydrometallurgical Ni Plant ")
print("===================================================================")
display(gui_tabs)
update_dashboard(None) # Trigger the first calculation to populate the dashboard
